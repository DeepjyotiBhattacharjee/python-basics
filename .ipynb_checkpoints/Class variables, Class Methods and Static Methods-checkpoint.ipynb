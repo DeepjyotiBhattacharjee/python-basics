{
 "cells": [
  {
   "cell_type": "code",
   "execution_count": 6,
   "id": "9c6aa944",
   "metadata": {},
   "outputs": [],
   "source": [
    "class Person:\n",
    "    company_name = \"iNeuron\"\n",
    "    def __init__(self,first_name,last_name):\n",
    "        self.first_name = first_name\n",
    "        self.last_name = last_name\n",
    "    "
   ]
  },
  {
   "cell_type": "code",
   "execution_count": 7,
   "id": "196186c1",
   "metadata": {},
   "outputs": [],
   "source": [
    "person1 = Person(\"deep\",\"bhattacharjee\")"
   ]
  },
  {
   "cell_type": "code",
   "execution_count": 5,
   "id": "e4fe722c",
   "metadata": {},
   "outputs": [
    {
     "data": {
      "text/plain": [
       "'deep'"
      ]
     },
     "execution_count": 5,
     "metadata": {},
     "output_type": "execute_result"
    }
   ],
   "source": [
    "# instance attribute\n",
    "person1.first_name"
   ]
  },
  {
   "cell_type": "code",
   "execution_count": 4,
   "id": "506ba452",
   "metadata": {},
   "outputs": [
    {
     "data": {
      "text/plain": [
       "'bhattacharjee'"
      ]
     },
     "execution_count": 4,
     "metadata": {},
     "output_type": "execute_result"
    }
   ],
   "source": [
    "person1.last_name"
   ]
  },
  {
   "cell_type": "code",
   "execution_count": 8,
   "id": "1ab676e3",
   "metadata": {},
   "outputs": [
    {
     "data": {
      "text/plain": [
       "'iNeuron'"
      ]
     },
     "execution_count": 8,
     "metadata": {},
     "output_type": "execute_result"
    }
   ],
   "source": [
    "person1.company_name # company_name is iNeuron"
   ]
  },
  {
   "cell_type": "code",
   "execution_count": 9,
   "id": "06fa85e4",
   "metadata": {},
   "outputs": [],
   "source": [
    "person2 = Person(\"Ankita\",\"Chatterjee\")"
   ]
  },
  {
   "cell_type": "code",
   "execution_count": 10,
   "id": "99a7898d",
   "metadata": {},
   "outputs": [
    {
     "data": {
      "text/plain": [
       "'iNeuron'"
      ]
     },
     "execution_count": 10,
     "metadata": {},
     "output_type": "execute_result"
    }
   ],
   "source": [
    "person2.company_name # company_name is iNeuron"
   ]
  },
  {
   "cell_type": "markdown",
   "id": "630ec01e",
   "metadata": {},
   "source": [
    "## Class Variables"
   ]
  },
  {
   "cell_type": "markdown",
   "id": "677ab06a",
   "metadata": {},
   "source": [
    "In Python, class variables are variables that are shared by all the instances of a class. They are defined within the class, but outside of any methods or constructors. Class variables are associated with the class itself rather than with specific instances of the class."
   ]
  },
  {
   "cell_type": "markdown",
   "id": "7402b4d8",
   "metadata": {},
   "source": [
    "## Class Methods"
   ]
  },
  {
   "cell_type": "markdown",
   "id": "4857a756",
   "metadata": {},
   "source": [
    "In Python, a class method is a special type of method that is bound to the class rather than an instance of the class. It is defined using @classmethod decorator, followed by a function definition within the class. Class methods have access to the class itself as the first parameter, conventionally named cls, instead of the instance (self) that is used in regular methods."
   ]
  },
  {
   "cell_type": "code",
   "execution_count": null,
   "id": "ef4a6f1a",
   "metadata": {},
   "outputs": [],
   "source": [
    "    "
   ]
  }
 ],
 "metadata": {
  "kernelspec": {
   "display_name": "Python 3 (ipykernel)",
   "language": "python",
   "name": "python3"
  },
  "language_info": {
   "codemirror_mode": {
    "name": "ipython",
    "version": 3
   },
   "file_extension": ".py",
   "mimetype": "text/x-python",
   "name": "python",
   "nbconvert_exporter": "python",
   "pygments_lexer": "ipython3",
   "version": "3.11.3"
  }
 },
 "nbformat": 4,
 "nbformat_minor": 5
}
