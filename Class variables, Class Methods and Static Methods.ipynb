{
 "cells": [
  {
   "cell_type": "code",
   "execution_count": 11,
   "id": "4afbf9de",
   "metadata": {},
   "outputs": [],
   "source": [
    "class Person:\n",
    "    company_name = \"iNeuron\" # this is class variable\n",
    "    def __init__(self,first_name,last_name):\n",
    "        self.first_name = first_name # this is instance variable\n",
    "        self.last_name = last_name\n",
    "        \n",
    "    @classmethod\n",
    "    def change_company(cls,company_name):\n",
    "        cls.company_name = company_name"
   ]
  },
  {
   "cell_type": "code",
   "execution_count": 7,
   "id": "bf3f1272",
   "metadata": {},
   "outputs": [],
   "source": [
    "person1 = Person(\"deep\",\"bhattacharjee\")"
   ]
  },
  {
   "cell_type": "code",
   "execution_count": 5,
   "id": "2ccbd19f",
   "metadata": {},
   "outputs": [
    {
     "data": {
      "text/plain": [
       "'deep'"
      ]
     },
     "execution_count": 5,
     "metadata": {},
     "output_type": "execute_result"
    }
   ],
   "source": [
    "# instance attribute\n",
    "person1.first_name"
   ]
  },
  {
   "cell_type": "code",
   "execution_count": 4,
   "id": "860d2119",
   "metadata": {},
   "outputs": [
    {
     "data": {
      "text/plain": [
       "'bhattacharjee'"
      ]
     },
     "execution_count": 4,
     "metadata": {},
     "output_type": "execute_result"
    }
   ],
   "source": [
    "person1.last_name"
   ]
  },
  {
   "cell_type": "code",
   "execution_count": 8,
   "id": "1a0499ef",
   "metadata": {},
   "outputs": [
    {
     "data": {
      "text/plain": [
       "'iNeuron'"
      ]
     },
     "execution_count": 8,
     "metadata": {},
     "output_type": "execute_result"
    }
   ],
   "source": [
    "person1.company_name # company_name is iNeuron"
   ]
  },
  {
   "cell_type": "code",
   "execution_count": 9,
   "id": "e4ade5f1",
   "metadata": {},
   "outputs": [],
   "source": [
    "person2 = Person(\"Ankita\",\"Chatterjee\")"
   ]
  },
  {
   "cell_type": "code",
   "execution_count": 10,
   "id": "24c89535",
   "metadata": {},
   "outputs": [
    {
     "data": {
      "text/plain": [
       "'iNeuron'"
      ]
     },
     "execution_count": 10,
     "metadata": {},
     "output_type": "execute_result"
    }
   ],
   "source": [
    "person2.company_name # company_name is iNeuron"
   ]
  },
  {
   "cell_type": "markdown",
   "id": "a0c33772",
   "metadata": {},
   "source": [
    "## Class Variables"
   ]
  },
  {
   "cell_type": "markdown",
   "id": "3cd82f27",
   "metadata": {},
   "source": [
    "In Python, class variables are variables that are shared by all the instances of a class. They are defined within the class, but outside of any methods or constructors. Class variables are associated with the class itself rather than with specific instances of the class."
   ]
  },
  {
   "cell_type": "markdown",
   "id": "4898dd4a",
   "metadata": {},
   "source": [
    "## Class Methods"
   ]
  },
  {
   "cell_type": "markdown",
   "id": "d96fa450",
   "metadata": {},
   "source": [
    "In Python, a class method is a special type of method that is bound to the class rather than an instance of the class. It is defined using @classmethod decorator, followed by a function definition within the class. Class methods have access to the class itself as the first parameter, conventionally named cls, instead of the instance (self) that is used in regular methods."
   ]
  },
  {
   "cell_type": "code",
   "execution_count": 12,
   "id": "6d4b00dd",
   "metadata": {},
   "outputs": [
    {
     "data": {
      "text/plain": [
       "'iNeuron'"
      ]
     },
     "execution_count": 12,
     "metadata": {},
     "output_type": "execute_result"
    }
   ],
   "source": [
    "person1.company_name"
   ]
  },
  {
   "cell_type": "code",
   "execution_count": null,
   "id": "bad8ac04",
   "metadata": {},
   "outputs": [],
   "source": [
    "Person.change_company()"
   ]
  }
 ],
 "metadata": {
  "kernelspec": {
   "display_name": "Python 3 (ipykernel)",
   "language": "python",
   "name": "python3"
  },
  "language_info": {
   "codemirror_mode": {
    "name": "ipython",
    "version": 3
   },
   "file_extension": ".py",
   "mimetype": "text/x-python",
   "name": "python",
   "nbconvert_exporter": "python",
   "pygments_lexer": "ipython3",
   "version": "3.11.3"
  }
 },
 "nbformat": 4,
 "nbformat_minor": 5
}
