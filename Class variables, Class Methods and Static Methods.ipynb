{
 "cells": [
  {
   "cell_type": "code",
   "execution_count": 1,
   "id": "4afbf9de",
   "metadata": {},
   "outputs": [],
   "source": [
    "class Person:\n",
    "    company_name = \"iNeuron\" # this is class variable\n",
    "    def __init__(self,first_name,last_name):\n",
    "        self.first_name = first_name # this is instance variable\n",
    "        self.last_name = last_name\n",
    "        \n",
    "    @classmethod\n",
    "    def change_company(cls,company_name):\n",
    "        cls.company_name = company_name"
   ]
  },
  {
   "cell_type": "code",
   "execution_count": 2,
   "id": "bf3f1272",
   "metadata": {},
   "outputs": [],
   "source": [
    "person1 = Person(\"deep\",\"bhattacharjee\")"
   ]
  },
  {
   "cell_type": "code",
   "execution_count": 3,
   "id": "2ccbd19f",
   "metadata": {},
   "outputs": [
    {
     "data": {
      "text/plain": [
       "'deep'"
      ]
     },
     "execution_count": 3,
     "metadata": {},
     "output_type": "execute_result"
    }
   ],
   "source": [
    "# instance attribute\n",
    "person1.first_name"
   ]
  },
  {
   "cell_type": "code",
   "execution_count": 4,
   "id": "860d2119",
   "metadata": {},
   "outputs": [
    {
     "data": {
      "text/plain": [
       "'bhattacharjee'"
      ]
     },
     "execution_count": 4,
     "metadata": {},
     "output_type": "execute_result"
    }
   ],
   "source": [
    "person1.last_name"
   ]
  },
  {
   "cell_type": "code",
   "execution_count": 5,
   "id": "1a0499ef",
   "metadata": {},
   "outputs": [
    {
     "data": {
      "text/plain": [
       "'iNeuron'"
      ]
     },
     "execution_count": 5,
     "metadata": {},
     "output_type": "execute_result"
    }
   ],
   "source": [
    "person1.company_name # company_name is iNeuron"
   ]
  },
  {
   "cell_type": "code",
   "execution_count": 6,
   "id": "e4ade5f1",
   "metadata": {},
   "outputs": [],
   "source": [
    "person2 = Person(\"Ankita\",\"Chatterjee\")"
   ]
  },
  {
   "cell_type": "code",
   "execution_count": 7,
   "id": "24c89535",
   "metadata": {},
   "outputs": [
    {
     "data": {
      "text/plain": [
       "'iNeuron'"
      ]
     },
     "execution_count": 7,
     "metadata": {},
     "output_type": "execute_result"
    }
   ],
   "source": [
    "person2.company_name # company_name is iNeuron"
   ]
  },
  {
   "cell_type": "markdown",
   "id": "a0c33772",
   "metadata": {},
   "source": [
    "## Class Variables"
   ]
  },
  {
   "cell_type": "markdown",
   "id": "3cd82f27",
   "metadata": {},
   "source": [
    "In Python, class variables are variables that are shared by all the instances of a class. They are defined within the class, but outside of any methods or constructors. Class variables are associated with the class itself rather than with specific instances of the class."
   ]
  },
  {
   "cell_type": "markdown",
   "id": "4898dd4a",
   "metadata": {},
   "source": [
    "## Class Methods"
   ]
  },
  {
   "cell_type": "markdown",
   "id": "d96fa450",
   "metadata": {},
   "source": [
    "In Python, a class method is a special type of method that is bound to the class rather than an instance of the class. It is defined using @classmethod decorator, followed by a function definition within the class. Class methods have access to the class itself as the first parameter, conventionally named cls, instead of the instance (self) that is used in regular methods."
   ]
  },
  {
   "cell_type": "code",
   "execution_count": 8,
   "id": "6d4b00dd",
   "metadata": {},
   "outputs": [
    {
     "data": {
      "text/plain": [
       "'iNeuron'"
      ]
     },
     "execution_count": 8,
     "metadata": {},
     "output_type": "execute_result"
    }
   ],
   "source": [
    "person1.company_name"
   ]
  },
  {
   "cell_type": "code",
   "execution_count": 10,
   "id": "bad8ac04",
   "metadata": {},
   "outputs": [],
   "source": [
    "Person.change_company('Facebook')"
   ]
  },
  {
   "cell_type": "code",
   "execution_count": 11,
   "id": "0035de97",
   "metadata": {},
   "outputs": [
    {
     "data": {
      "text/plain": [
       "'Facebook'"
      ]
     },
     "execution_count": 11,
     "metadata": {},
     "output_type": "execute_result"
    }
   ],
   "source": [
    "person1.company_name"
   ]
  },
  {
   "cell_type": "code",
   "execution_count": 12,
   "id": "ce39d27b",
   "metadata": {},
   "outputs": [],
   "source": [
    "person2 = Person('Bruce','Wayne')"
   ]
  },
  {
   "cell_type": "code",
   "execution_count": 13,
   "id": "820687e0",
   "metadata": {},
   "outputs": [
    {
     "data": {
      "text/plain": [
       "'Facebook'"
      ]
     },
     "execution_count": 13,
     "metadata": {},
     "output_type": "execute_result"
    }
   ],
   "source": [
    "person2.company_name"
   ]
  },
  {
   "cell_type": "code",
   "execution_count": 14,
   "id": "439038db",
   "metadata": {},
   "outputs": [],
   "source": [
    "class Car:\n",
    "    base_price = 100000 # class variable\n",
    "    def __init__(self,brand,model):\n",
    "        self.brand = brand\n",
    "        self.model = model\n",
    "        \n",
    "    def display_price(self):\n",
    "        print(f\"The base price is = {base_price}\")\n",
    "        \n",
    "    @classmethod\n",
    "    def update_base_price(cls,inflation):\n",
    "        cls.base_price += (cls.base_price*inflation)/100"
   ]
  },
  {
   "cell_type": "code",
   "execution_count": 15,
   "id": "8a6a758a",
   "metadata": {},
   "outputs": [
    {
     "data": {
      "text/plain": [
       "100000"
      ]
     },
     "execution_count": 15,
     "metadata": {},
     "output_type": "execute_result"
    }
   ],
   "source": [
    "Car.base_price"
   ]
  },
  {
   "cell_type": "code",
   "execution_count": 16,
   "id": "0a28d13d",
   "metadata": {},
   "outputs": [],
   "source": [
    "Car.update_base_price(20) # update the base price after a 20 percent inflation"
   ]
  },
  {
   "cell_type": "code",
   "execution_count": 17,
   "id": "30656d19",
   "metadata": {},
   "outputs": [
    {
     "data": {
      "text/plain": [
       "120000.0"
      ]
     },
     "execution_count": 17,
     "metadata": {},
     "output_type": "execute_result"
    }
   ],
   "source": [
    "Car.base_price"
   ]
  },
  {
   "cell_type": "markdown",
   "id": "3ee7bf01",
   "metadata": {},
   "source": [
    "## Static Methods"
   ]
  },
  {
   "cell_type": "markdown",
   "id": "e2c879c4",
   "metadata": {},
   "source": [
    "In Python, a static method is a method that belongs to a class but doesn't have access to the class itself (via self) or its instances. Static methods are defined using the @staticmethod decorator and are typically used when a method doesn't require access to instance-specific or class-specific data.\n",
    "\n",
    "Static Methods are often used when you have a utility function or a method that doesn't depend on the state of a specific instance or the class itself. They are self contained and do not have access to instance variables or class variables unless they are explicitly passed as parameters.\n",
    "\n",
    "It's important to note that static methods don't have the ability to modify the state of the instance or the class. They are independent of any specific instance and can be called without creating an instance of the class."
   ]
  },
  {
   "cell_type": "code",
   "execution_count": 18,
   "id": "4d4a6693",
   "metadata": {},
   "outputs": [],
   "source": [
    "class Car:\n",
    "    base_price = 100000 # class variable\n",
    "    def __init__(self,brand,model):\n",
    "        self.brand = brand\n",
    "        self.model = model\n",
    "        \n",
    "    def display_price(self):\n",
    "        print(f\"The base price is = {base_price}\")\n",
    "        \n",
    "    @classmethod\n",
    "    def update_base_price(cls,inflation):\n",
    "        cls.base_price += (cls.base_price*inflation)/100\n",
    "        \n",
    "    @staticmethod\n",
    "    def check_year(year):\n",
    "        return True if year == 2024 else False"
   ]
  },
  {
   "cell_type": "code",
   "execution_count": 20,
   "id": "b1d3a79d",
   "metadata": {},
   "outputs": [
    {
     "data": {
      "text/plain": [
       "True"
      ]
     },
     "execution_count": 20,
     "metadata": {},
     "output_type": "execute_result"
    }
   ],
   "source": [
    "Car.check_year(2024)"
   ]
  },
  {
   "cell_type": "code",
   "execution_count": 21,
   "id": "6f2caa48",
   "metadata": {},
   "outputs": [
    {
     "data": {
      "text/plain": [
       "False"
      ]
     },
     "execution_count": 21,
     "metadata": {},
     "output_type": "execute_result"
    }
   ],
   "source": [
    "Car.check_year(2023)"
   ]
  },
  {
   "cell_type": "markdown",
   "id": "4e9c4153",
   "metadata": {},
   "source": [
    "## Dataclass"
   ]
  },
  {
   "cell_type": "markdown",
   "id": "a6f7e986",
   "metadata": {},
   "source": [
    "Creates the constructor by default. We don't need to write the __init__ function."
   ]
  },
  {
   "cell_type": "code",
   "execution_count": 26,
   "id": "be0315b6",
   "metadata": {},
   "outputs": [],
   "source": [
    "from dataclasses import dataclass\n",
    "\n",
    "@dataclass\n",
    "class Person:\n",
    "    first_name:str\n",
    "    last_name:str\n",
    "    \n",
    "    def display_info(self):\n",
    "        print(f\"The name of the person is {self.first_name} {self.last_name}\")"
   ]
  },
  {
   "cell_type": "code",
   "execution_count": 27,
   "id": "d9765da4",
   "metadata": {},
   "outputs": [],
   "source": [
    "person1 = Person(\"Deepjyoti\",\"Bhattacharjee\")"
   ]
  },
  {
   "cell_type": "code",
   "execution_count": 24,
   "id": "dc0b5405",
   "metadata": {},
   "outputs": [
    {
     "data": {
      "text/plain": [
       "'Deepjyoti'"
      ]
     },
     "execution_count": 24,
     "metadata": {},
     "output_type": "execute_result"
    }
   ],
   "source": [
    "person1.first_name"
   ]
  },
  {
   "cell_type": "code",
   "execution_count": 25,
   "id": "9d017b90",
   "metadata": {},
   "outputs": [
    {
     "data": {
      "text/plain": [
       "'Bhattacharjee'"
      ]
     },
     "execution_count": 25,
     "metadata": {},
     "output_type": "execute_result"
    }
   ],
   "source": [
    "person1.last_name"
   ]
  },
  {
   "cell_type": "code",
   "execution_count": 28,
   "id": "60457b8b",
   "metadata": {},
   "outputs": [
    {
     "name": "stdout",
     "output_type": "stream",
     "text": [
      "The name of the person is Deepjyoti Bhattacharjee\n"
     ]
    }
   ],
   "source": [
    "person1.display_info()"
   ]
  },
  {
   "cell_type": "code",
   "execution_count": null,
   "id": "1db2d232",
   "metadata": {},
   "outputs": [],
   "source": [
    "p2 = Person(\"Bruce\")"
   ]
  }
 ],
 "metadata": {
  "kernelspec": {
   "display_name": "Python 3 (ipykernel)",
   "language": "python",
   "name": "python3"
  },
  "language_info": {
   "codemirror_mode": {
    "name": "ipython",
    "version": 3
   },
   "file_extension": ".py",
   "mimetype": "text/x-python",
   "name": "python",
   "nbconvert_exporter": "python",
   "pygments_lexer": "ipython3",
   "version": "3.11.3"
  }
 },
 "nbformat": 4,
 "nbformat_minor": 5
}
