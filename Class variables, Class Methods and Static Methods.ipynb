{
 "cells": [
  {
   "cell_type": "code",
   "execution_count": 1,
   "id": "4afbf9de",
   "metadata": {},
   "outputs": [],
   "source": [
    "class Person:\n",
    "    company_name = \"iNeuron\" # this is class variable\n",
    "    def __init__(self,first_name,last_name):\n",
    "        self.first_name = first_name # this is instance variable\n",
    "        self.last_name = last_name\n",
    "        \n",
    "    @classmethod\n",
    "    def change_company(cls,company_name):\n",
    "        cls.company_name = company_name"
   ]
  },
  {
   "cell_type": "code",
   "execution_count": 2,
   "id": "bf3f1272",
   "metadata": {},
   "outputs": [],
   "source": [
    "person1 = Person(\"deep\",\"bhattacharjee\")"
   ]
  },
  {
   "cell_type": "code",
   "execution_count": 3,
   "id": "2ccbd19f",
   "metadata": {},
   "outputs": [
    {
     "data": {
      "text/plain": [
       "'deep'"
      ]
     },
     "execution_count": 3,
     "metadata": {},
     "output_type": "execute_result"
    }
   ],
   "source": [
    "# instance attribute\n",
    "person1.first_name"
   ]
  },
  {
   "cell_type": "code",
   "execution_count": 4,
   "id": "860d2119",
   "metadata": {},
   "outputs": [
    {
     "data": {
      "text/plain": [
       "'bhattacharjee'"
      ]
     },
     "execution_count": 4,
     "metadata": {},
     "output_type": "execute_result"
    }
   ],
   "source": [
    "person1.last_name"
   ]
  },
  {
   "cell_type": "code",
   "execution_count": 5,
   "id": "1a0499ef",
   "metadata": {},
   "outputs": [
    {
     "data": {
      "text/plain": [
       "'iNeuron'"
      ]
     },
     "execution_count": 5,
     "metadata": {},
     "output_type": "execute_result"
    }
   ],
   "source": [
    "person1.company_name # company_name is iNeuron"
   ]
  },
  {
   "cell_type": "code",
   "execution_count": 6,
   "id": "e4ade5f1",
   "metadata": {},
   "outputs": [],
   "source": [
    "person2 = Person(\"Ankita\",\"Chatterjee\")"
   ]
  },
  {
   "cell_type": "code",
   "execution_count": 7,
   "id": "24c89535",
   "metadata": {},
   "outputs": [
    {
     "data": {
      "text/plain": [
       "'iNeuron'"
      ]
     },
     "execution_count": 7,
     "metadata": {},
     "output_type": "execute_result"
    }
   ],
   "source": [
    "person2.company_name # company_name is iNeuron"
   ]
  },
  {
   "cell_type": "markdown",
   "id": "a0c33772",
   "metadata": {},
   "source": [
    "## Class Variables"
   ]
  },
  {
   "cell_type": "markdown",
   "id": "3cd82f27",
   "metadata": {},
   "source": [
    "In Python, class variables are variables that are shared by all the instances of a class. They are defined within the class, but outside of any methods or constructors. Class variables are associated with the class itself rather than with specific instances of the class."
   ]
  },
  {
   "cell_type": "markdown",
   "id": "4898dd4a",
   "metadata": {},
   "source": [
    "## Class Methods"
   ]
  },
  {
   "cell_type": "markdown",
   "id": "d96fa450",
   "metadata": {},
   "source": [
    "In Python, a class method is a special type of method that is bound to the class rather than an instance of the class. It is defined using @classmethod decorator, followed by a function definition within the class. Class methods have access to the class itself as the first parameter, conventionally named cls, instead of the instance (self) that is used in regular methods."
   ]
  },
  {
   "cell_type": "code",
   "execution_count": 8,
   "id": "6d4b00dd",
   "metadata": {},
   "outputs": [
    {
     "data": {
      "text/plain": [
       "'iNeuron'"
      ]
     },
     "execution_count": 8,
     "metadata": {},
     "output_type": "execute_result"
    }
   ],
   "source": [
    "person1.company_name"
   ]
  },
  {
   "cell_type": "code",
   "execution_count": 10,
   "id": "bad8ac04",
   "metadata": {},
   "outputs": [],
   "source": [
    "Person.change_company('Facebook')"
   ]
  },
  {
   "cell_type": "code",
   "execution_count": 11,
   "id": "a9c05bc8",
   "metadata": {},
   "outputs": [
    {
     "data": {
      "text/plain": [
       "'Facebook'"
      ]
     },
     "execution_count": 11,
     "metadata": {},
     "output_type": "execute_result"
    }
   ],
   "source": [
    "person1.company_name"
   ]
  },
  {
   "cell_type": "code",
   "execution_count": 12,
   "id": "a58f9115",
   "metadata": {},
   "outputs": [],
   "source": [
    "person2 = Person('Bruce','Wayne')"
   ]
  },
  {
   "cell_type": "code",
   "execution_count": 13,
   "id": "6de100ef",
   "metadata": {},
   "outputs": [
    {
     "data": {
      "text/plain": [
       "'Facebook'"
      ]
     },
     "execution_count": 13,
     "metadata": {},
     "output_type": "execute_result"
    }
   ],
   "source": [
    "person2.company_name"
   ]
  },
  {
   "cell_type": "code",
   "execution_count": 14,
   "id": "d763e164",
   "metadata": {},
   "outputs": [],
   "source": [
    "class Car:\n",
    "    base_price = 100000 # class variable\n",
    "    def __init__(self,brand,model):\n",
    "        self.brand = brand\n",
    "        self.model = model\n",
    "        \n",
    "    def display_price(self):\n",
    "        print(f\"The base price is = {base_price}\")\n",
    "        \n",
    "    @classmethod\n",
    "    def update_base_price(cls,inflation):\n",
    "        cls.base_price += (cls.base_price*inflation)/100"
   ]
  },
  {
   "cell_type": "code",
   "execution_count": 15,
   "id": "0beb4814",
   "metadata": {},
   "outputs": [
    {
     "data": {
      "text/plain": [
       "100000"
      ]
     },
     "execution_count": 15,
     "metadata": {},
     "output_type": "execute_result"
    }
   ],
   "source": [
    "Car.base_price"
   ]
  },
  {
   "cell_type": "code",
   "execution_count": null,
   "id": "45346804",
   "metadata": {},
   "outputs": [],
   "source": [
    "Car.bas"
   ]
  }
 ],
 "metadata": {
  "kernelspec": {
   "display_name": "Python 3 (ipykernel)",
   "language": "python",
   "name": "python3"
  },
  "language_info": {
   "codemirror_mode": {
    "name": "ipython",
    "version": 3
   },
   "file_extension": ".py",
   "mimetype": "text/x-python",
   "name": "python",
   "nbconvert_exporter": "python",
   "pygments_lexer": "ipython3",
   "version": "3.11.3"
  }
 },
 "nbformat": 4,
 "nbformat_minor": 5
}
