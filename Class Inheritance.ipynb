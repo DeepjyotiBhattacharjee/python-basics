{
 "cells": [
  {
   "cell_type": "code",
   "execution_count": 1,
   "id": "70bc137b",
   "metadata": {},
   "outputs": [],
   "source": [
    "class Person:\n",
    "    def __init__(self,name):\n",
    "        self.name = name\n",
    "    def display_info(self):\n",
    "        print(f\"Name is {self.name}\")"
   ]
  },
  {
   "cell_type": "code",
   "execution_count": 2,
   "id": "0ebb801b",
   "metadata": {},
   "outputs": [],
   "source": [
    "class Student(Person):\n",
    "    def __init__(self,name,grade):\n",
    "        super().__init__(name)\n",
    "        self.grade = grade\n",
    "    \n",
    "    def display_info(self):\n",
    "        super().display_info()\n",
    "        print(f\"Grade is {self.grade}\")"
   ]
  },
  {
   "cell_type": "code",
   "execution_count": 3,
   "id": "6c6a9c8d",
   "metadata": {},
   "outputs": [],
   "source": [
    "student1 = Student(\"deep\",90)"
   ]
  },
  {
   "cell_type": "code",
   "execution_count": 4,
   "id": "b8a5cee6",
   "metadata": {},
   "outputs": [
    {
     "name": "stdout",
     "output_type": "stream",
     "text": [
      "Name is deep\n",
      "Grade is 90\n"
     ]
    }
   ],
   "source": [
    "student1.display_info()"
   ]
  },
  {
   "cell_type": "code",
   "execution_count": 5,
   "id": "588b4b32",
   "metadata": {},
   "outputs": [],
   "source": [
    "class Teacher(Person):\n",
    "    def __init__(self,name,subject):\n",
    "        super().__init__(name)\n",
    "        self.subject = subject\n",
    "    \n",
    "    def display_info(self):\n",
    "        super().display_info()\n",
    "        print(f\"Subject is {self.subject}\")"
   ]
  },
  {
   "cell_type": "code",
   "execution_count": 6,
   "id": "5e4cefdf",
   "metadata": {},
   "outputs": [],
   "source": [
    "teacher1 = Teacher(\"caspy\",\"maths\")"
   ]
  },
  {
   "cell_type": "code",
   "execution_count": 7,
   "id": "64a63943",
   "metadata": {},
   "outputs": [
    {
     "name": "stdout",
     "output_type": "stream",
     "text": [
      "Name is caspy\n",
      "Subject is maths\n"
     ]
    }
   ],
   "source": [
    "teacher1.display_info()"
   ]
  },
  {
   "cell_type": "code",
   "execution_count": 23,
   "id": "634da92b",
   "metadata": {},
   "outputs": [],
   "source": [
    "class Vehicle:\n",
    "    def __init__(self,model,brand):\n",
    "        self.model = model\n",
    "        self.brand = brand\n",
    "        \n",
    "    def start(self):\n",
    "        print(f\"{self.model} has started\")"
   ]
  },
  {
   "cell_type": "code",
   "execution_count": 24,
   "id": "d86c149c",
   "metadata": {},
   "outputs": [],
   "source": [
    "class Bicycle(Vehicle):\n",
    "    def __init__(self,model,brand):\n",
    "        super().__init__(model,brand)\n",
    "    \n",
    "    def start(self):\n",
    "        super().start()\n",
    "        print(\"This is a bicycle\")\n",
    "        \n",
    "    def display_info(self):\n",
    "        print(\"this is the display_info of bicycle\")"
   ]
  },
  {
   "cell_type": "code",
   "execution_count": 25,
   "id": "bceb352c",
   "metadata": {},
   "outputs": [],
   "source": [
    "class Car(Vehicle):\n",
    "    def __init__(self,model,brand):\n",
    "        super().__init__(model,brand)\n",
    "    \n",
    "    def start(self):\n",
    "        super().start()\n",
    "        print(\"This is a car\")\n",
    "        \n",
    "    def display_info(self):\n",
    "        print(\"this is the display_info of car\")"
   ]
  },
  {
   "cell_type": "code",
   "execution_count": 26,
   "id": "bc0756b5",
   "metadata": {},
   "outputs": [],
   "source": [
    "bicycle1 = Bicycle('bike','hero')"
   ]
  },
  {
   "cell_type": "code",
   "execution_count": 27,
   "id": "e26a9663",
   "metadata": {},
   "outputs": [
    {
     "name": "stdout",
     "output_type": "stream",
     "text": [
      "bike has started\n",
      "This is a bicycle\n"
     ]
    }
   ],
   "source": [
    "bicycle1.start()"
   ]
  },
  {
   "cell_type": "code",
   "execution_count": 28,
   "id": "b84caf48",
   "metadata": {},
   "outputs": [
    {
     "name": "stdout",
     "output_type": "stream",
     "text": [
      "this is the display_info of bicycle\n"
     ]
    }
   ],
   "source": [
    "bicycle1.display_info()"
   ]
  },
  {
   "cell_type": "code",
   "execution_count": 29,
   "id": "02036b26",
   "metadata": {},
   "outputs": [],
   "source": [
    "car1 = Car(\"sedan\",\"bmw\")"
   ]
  },
  {
   "cell_type": "code",
   "execution_count": 30,
   "id": "fb16f2ba",
   "metadata": {},
   "outputs": [
    {
     "name": "stdout",
     "output_type": "stream",
     "text": [
      "sedan has started\n",
      "This is a car\n"
     ]
    }
   ],
   "source": [
    "car1.start()"
   ]
  },
  {
   "cell_type": "code",
   "execution_count": 31,
   "id": "6fb52e2b",
   "metadata": {},
   "outputs": [
    {
     "name": "stdout",
     "output_type": "stream",
     "text": [
      "this is the display_info of car\n"
     ]
    }
   ],
   "source": [
    "car1.display_info()"
   ]
  },
  {
   "cell_type": "code",
   "execution_count": 72,
   "id": "95b878cd",
   "metadata": {},
   "outputs": [],
   "source": [
    "class Animal:\n",
    "    def __init__(self,name):\n",
    "        self.name = name\n",
    "    def sound(self):\n",
    "        print(\"base class sound\")\n",
    "\n",
    "class Dog(Animal):\n",
    "    def __init__(self,name,breed):\n",
    "        super().__init__(name)\n",
    "        self.breed = breed\n",
    "    def sound(self):\n",
    "        print(\"Woof!\")\n",
    "\n",
    "class Cat(Animal):\n",
    "    def __init__(self,name,breed):\n",
    "        super().__init__(name)\n",
    "        self.breed = breed\n",
    "    def sound(self):\n",
    "        print(\"Meow!\")\n"
   ]
  },
  {
   "cell_type": "code",
   "execution_count": 38,
   "id": "2d2226c6",
   "metadata": {},
   "outputs": [],
   "source": [
    "dog1 = Dog(\"caspy\",\"labrador\")"
   ]
  },
  {
   "cell_type": "code",
   "execution_count": 39,
   "id": "2d3ee45e",
   "metadata": {},
   "outputs": [
    {
     "data": {
      "text/plain": [
       "'caspy'"
      ]
     },
     "execution_count": 39,
     "metadata": {},
     "output_type": "execute_result"
    }
   ],
   "source": [
    "dog1.name"
   ]
  },
  {
   "cell_type": "code",
   "execution_count": 40,
   "id": "4f0cbe3a",
   "metadata": {},
   "outputs": [
    {
     "data": {
      "text/plain": [
       "'labrador'"
      ]
     },
     "execution_count": 40,
     "metadata": {},
     "output_type": "execute_result"
    }
   ],
   "source": [
    "dog1.breed"
   ]
  },
  {
   "cell_type": "code",
   "execution_count": 41,
   "id": "256a1d8f",
   "metadata": {},
   "outputs": [
    {
     "name": "stdout",
     "output_type": "stream",
     "text": [
      "Woof!\n"
     ]
    }
   ],
   "source": [
    "dog1.sound()"
   ]
  },
  {
   "cell_type": "code",
   "execution_count": 78,
   "id": "7c5f2296",
   "metadata": {},
   "outputs": [
    {
     "data": {
      "text/plain": [
       "['__class__',\n",
       " '__delattr__',\n",
       " '__dict__',\n",
       " '__dir__',\n",
       " '__doc__',\n",
       " '__eq__',\n",
       " '__format__',\n",
       " '__ge__',\n",
       " '__getattribute__',\n",
       " '__getstate__',\n",
       " '__gt__',\n",
       " '__hash__',\n",
       " '__init__',\n",
       " '__init_subclass__',\n",
       " '__le__',\n",
       " '__lt__',\n",
       " '__module__',\n",
       " '__ne__',\n",
       " '__new__',\n",
       " '__reduce__',\n",
       " '__reduce_ex__',\n",
       " '__repr__',\n",
       " '__setattr__',\n",
       " '__sizeof__',\n",
       " '__str__',\n",
       " '__subclasshook__',\n",
       " '__weakref__',\n",
       " 'breed',\n",
       " 'name',\n",
       " 'sound']"
      ]
     },
     "execution_count": 78,
     "metadata": {},
     "output_type": "execute_result"
    }
   ],
   "source": [
    "dir(dog1)"
   ]
  },
  {
   "cell_type": "code",
   "execution_count": 43,
   "id": "dc772dc7",
   "metadata": {},
   "outputs": [],
   "source": [
    "cat1 = Cat(\"whiskers\",\"persian\")"
   ]
  },
  {
   "cell_type": "code",
   "execution_count": 44,
   "id": "ad2c1eda",
   "metadata": {},
   "outputs": [
    {
     "data": {
      "text/plain": [
       "'persian'"
      ]
     },
     "execution_count": 44,
     "metadata": {},
     "output_type": "execute_result"
    }
   ],
   "source": [
    "cat1.breed"
   ]
  },
  {
   "cell_type": "code",
   "execution_count": 45,
   "id": "99ef0caa",
   "metadata": {},
   "outputs": [
    {
     "data": {
      "text/plain": [
       "'whiskers'"
      ]
     },
     "execution_count": 45,
     "metadata": {},
     "output_type": "execute_result"
    }
   ],
   "source": [
    "cat1.name"
   ]
  },
  {
   "cell_type": "code",
   "execution_count": 46,
   "id": "ad1167f4",
   "metadata": {},
   "outputs": [
    {
     "name": "stdout",
     "output_type": "stream",
     "text": [
      "Meow!\n"
     ]
    }
   ],
   "source": [
    "cat1.sound()"
   ]
  },
  {
   "cell_type": "code",
   "execution_count": 58,
   "id": "f2124069",
   "metadata": {},
   "outputs": [],
   "source": [
    "class Student :\n",
    "    def __init__(self,name,roll):\n",
    "        \n",
    "        # protected attributes\n",
    "        self._name = name\n",
    "        self._roll = roll\n",
    "        \n",
    "    def _display(self):\n",
    "        print(f\"Name is {self._name} and Roll number is {self._roll}\")"
   ]
  },
  {
   "cell_type": "code",
   "execution_count": 49,
   "id": "e08f86bb",
   "metadata": {},
   "outputs": [],
   "source": [
    "student1 = Student(\"Deep\",123)"
   ]
  },
  {
   "cell_type": "code",
   "execution_count": 50,
   "id": "67af5c05",
   "metadata": {},
   "outputs": [
    {
     "data": {
      "text/plain": [
       "['__class__',\n",
       " '__delattr__',\n",
       " '__dict__',\n",
       " '__dir__',\n",
       " '__doc__',\n",
       " '__eq__',\n",
       " '__format__',\n",
       " '__ge__',\n",
       " '__getattribute__',\n",
       " '__getstate__',\n",
       " '__gt__',\n",
       " '__hash__',\n",
       " '__init__',\n",
       " '__init_subclass__',\n",
       " '__le__',\n",
       " '__lt__',\n",
       " '__module__',\n",
       " '__ne__',\n",
       " '__new__',\n",
       " '__reduce__',\n",
       " '__reduce_ex__',\n",
       " '__repr__',\n",
       " '__setattr__',\n",
       " '__sizeof__',\n",
       " '__str__',\n",
       " '__subclasshook__',\n",
       " '__weakref__',\n",
       " '_display',\n",
       " '_name',\n",
       " '_roll']"
      ]
     },
     "execution_count": 50,
     "metadata": {},
     "output_type": "execute_result"
    }
   ],
   "source": [
    "dir(student1)"
   ]
  },
  {
   "cell_type": "code",
   "execution_count": 53,
   "id": "a1987d93",
   "metadata": {},
   "outputs": [],
   "source": [
    "class Genius(Student):\n",
    "    def __init__(self,name,roll):\n",
    "        super().__init__(name,roll)\n",
    "        \n",
    "    def display_details(self):\n",
    "        print(f\"Name is {self._name}\")\n",
    "        self._display()"
   ]
  },
  {
   "cell_type": "code",
   "execution_count": 54,
   "id": "30aecc01",
   "metadata": {},
   "outputs": [],
   "source": [
    "genius1 = Genius(\"deep\",456)"
   ]
  },
  {
   "cell_type": "code",
   "execution_count": 56,
   "id": "ab949a07",
   "metadata": {},
   "outputs": [
    {
     "name": "stdout",
     "output_type": "stream",
     "text": [
      "Name is deep\n",
      "Name is deep and Roll number is 456\n"
     ]
    }
   ],
   "source": [
    "genius1.display_details()"
   ]
  },
  {
   "cell_type": "code",
   "execution_count": 62,
   "id": "6b1c1e99",
   "metadata": {},
   "outputs": [],
   "source": [
    "class Student :\n",
    "    def __init__(self,name,roll):\n",
    "        \n",
    "        # private attributes\n",
    "        self.__name = name\n",
    "        self.__roll = roll\n",
    "        \n",
    "    def display(self):\n",
    "        print(f\"Name is {self.__name} and Roll number is {self.__roll}\")"
   ]
  },
  {
   "cell_type": "code",
   "execution_count": 63,
   "id": "9bde49de",
   "metadata": {},
   "outputs": [],
   "source": [
    "std1 = Student(\"deep\",9)"
   ]
  },
  {
   "cell_type": "code",
   "execution_count": 64,
   "id": "8af0e567",
   "metadata": {},
   "outputs": [
    {
     "name": "stdout",
     "output_type": "stream",
     "text": [
      "Name is deep and Roll number is 9\n"
     ]
    }
   ],
   "source": [
    "std1.display()"
   ]
  },
  {
   "cell_type": "code",
   "execution_count": 65,
   "id": "d2404afa",
   "metadata": {},
   "outputs": [
    {
     "data": {
      "text/plain": [
       "['_Student__name',\n",
       " '_Student__roll',\n",
       " '__class__',\n",
       " '__delattr__',\n",
       " '__dict__',\n",
       " '__dir__',\n",
       " '__doc__',\n",
       " '__eq__',\n",
       " '__format__',\n",
       " '__ge__',\n",
       " '__getattribute__',\n",
       " '__getstate__',\n",
       " '__gt__',\n",
       " '__hash__',\n",
       " '__init__',\n",
       " '__init_subclass__',\n",
       " '__le__',\n",
       " '__lt__',\n",
       " '__module__',\n",
       " '__ne__',\n",
       " '__new__',\n",
       " '__reduce__',\n",
       " '__reduce_ex__',\n",
       " '__repr__',\n",
       " '__setattr__',\n",
       " '__sizeof__',\n",
       " '__str__',\n",
       " '__subclasshook__',\n",
       " '__weakref__',\n",
       " 'display']"
      ]
     },
     "execution_count": 65,
     "metadata": {},
     "output_type": "execute_result"
    }
   ],
   "source": [
    "dir(std1)"
   ]
  },
  {
   "cell_type": "code",
   "execution_count": 66,
   "id": "fe63af4c",
   "metadata": {},
   "outputs": [],
   "source": [
    "class Genius(Student):\n",
    "    def __init__(self,name,roll,subject):\n",
    "        super().__init__(name,roll)\n",
    "        self.subject = subject\n",
    "    "
   ]
  },
  {
   "cell_type": "code",
   "execution_count": 67,
   "id": "277a84bd",
   "metadata": {},
   "outputs": [],
   "source": [
    "genius1 = Genius(\"deep\",10,\"AI\")"
   ]
  },
  {
   "cell_type": "code",
   "execution_count": 68,
   "id": "b4ad843c",
   "metadata": {},
   "outputs": [
    {
     "name": "stdout",
     "output_type": "stream",
     "text": [
      "Name is deep and Roll number is 10\n"
     ]
    }
   ],
   "source": [
    "genius1.display()"
   ]
  },
  {
   "cell_type": "code",
   "execution_count": 69,
   "id": "aeed3151",
   "metadata": {},
   "outputs": [
    {
     "data": {
      "text/plain": [
       "['_Student__name',\n",
       " '_Student__roll',\n",
       " '__class__',\n",
       " '__delattr__',\n",
       " '__dict__',\n",
       " '__dir__',\n",
       " '__doc__',\n",
       " '__eq__',\n",
       " '__format__',\n",
       " '__ge__',\n",
       " '__getattribute__',\n",
       " '__getstate__',\n",
       " '__gt__',\n",
       " '__hash__',\n",
       " '__init__',\n",
       " '__init_subclass__',\n",
       " '__le__',\n",
       " '__lt__',\n",
       " '__module__',\n",
       " '__ne__',\n",
       " '__new__',\n",
       " '__reduce__',\n",
       " '__reduce_ex__',\n",
       " '__repr__',\n",
       " '__setattr__',\n",
       " '__sizeof__',\n",
       " '__str__',\n",
       " '__subclasshook__',\n",
       " '__weakref__',\n",
       " 'display',\n",
       " 'subject']"
      ]
     },
     "execution_count": 69,
     "metadata": {},
     "output_type": "execute_result"
    }
   ],
   "source": [
    "dir(genius1)"
   ]
  },
  {
   "cell_type": "markdown",
   "id": "42774e0b",
   "metadata": {},
   "source": [
    "## Assignments"
   ]
  },
  {
   "cell_type": "markdown",
   "id": "5ce53466",
   "metadata": {},
   "source": [
    "1. The Person class has a constructor that takes name and age as arguments and assigns them to the object's attributes. The introduce method is then invoked on the object to introduce the person."
   ]
  },
  {
   "cell_type": "code",
   "execution_count": 82,
   "id": "86dbdc79",
   "metadata": {},
   "outputs": [],
   "source": [
    "class Person:\n",
    "    def __init__(self,name,age):\n",
    "        self.name = name\n",
    "        self.age = age\n",
    "    def introduce(self):\n",
    "        print(f\"This is {self.name}. He/she is {self.age} years old\")"
   ]
  },
  {
   "cell_type": "code",
   "execution_count": 83,
   "id": "f1086bb4",
   "metadata": {},
   "outputs": [],
   "source": [
    "deep = Person(\"Deep\",28)"
   ]
  },
  {
   "cell_type": "code",
   "execution_count": 84,
   "id": "924b092f",
   "metadata": {},
   "outputs": [
    {
     "name": "stdout",
     "output_type": "stream",
     "text": [
      "This is Deep. He/she is 28 years old\n"
     ]
    }
   ],
   "source": [
    "deep.introduce()"
   ]
  },
  {
   "cell_type": "markdown",
   "id": "e3cd8cf1",
   "metadata": {},
   "source": [
    "2. The Car class has a constructor that takes brand and model as arguments and assigns them to the object's attributes. The display_info method is then invoked on the object to display the car's brand and model."
   ]
  },
  {
   "cell_type": "code",
   "execution_count": 87,
   "id": "bbab4cab",
   "metadata": {},
   "outputs": [],
   "source": [
    "class Car:\n",
    "    def __init__(self,brand,model):\n",
    "        self.brand = brand\n",
    "        self.model = model\n",
    "        \n",
    "    def display_info(self):\n",
    "        print(f\"This is a {self.brand} and the model is {self.model}\")"
   ]
  },
  {
   "cell_type": "code",
   "execution_count": 88,
   "id": "b99c6f15",
   "metadata": {},
   "outputs": [],
   "source": [
    "m3_gtr = Car(\"bmw\",\"M3 GTR\")"
   ]
  },
  {
   "cell_type": "code",
   "execution_count": 89,
   "id": "9a4b4b9e",
   "metadata": {},
   "outputs": [
    {
     "name": "stdout",
     "output_type": "stream",
     "text": [
      "This is a bmw and the model is M3 GTR\n"
     ]
    }
   ],
   "source": [
    "m3_gtr.display_info()"
   ]
  },
  {
   "cell_type": "markdown",
   "id": "edb4a9fe",
   "metadata": {},
   "source": [
    "3. The BankAccount class has a constructor that takes account_number and balance as arguments and assigns them to the object's attributes. The display_balance method is then invoked on the object to display the account number and balance."
   ]
  },
  {
   "cell_type": "code",
   "execution_count": 90,
   "id": "46a63b27",
   "metadata": {},
   "outputs": [],
   "source": [
    "class BankAccount:\n",
    "    def __init__(self,account_number,balance):\n",
    "        self.account_number = account_number\n",
    "        self.balance = balance\n",
    "    def display_balance(self):\n",
    "        print(f\"the available balance for the account : {self.account_number} is ${self.balance}\")"
   ]
  },
  {
   "cell_type": "code",
   "execution_count": 91,
   "id": "8e0d2667",
   "metadata": {},
   "outputs": [],
   "source": [
    "deep_bank = BankAccount(50012345,1000)"
   ]
  },
  {
   "cell_type": "code",
   "execution_count": 92,
   "id": "72420d76",
   "metadata": {},
   "outputs": [
    {
     "name": "stdout",
     "output_type": "stream",
     "text": [
      "the available balance for the account : 50012345 is $1000\n"
     ]
    }
   ],
   "source": [
    "deep_bank.display_balance()"
   ]
  },
  {
   "cell_type": "markdown",
   "id": "a6957c4b",
   "metadata": {},
   "source": [
    "4. The MobilePhone class has a constructor that takes brand and model as arguments and assigns them to the object's attributes. The make_call method is then invoked on the object to make a call with the phone."
   ]
  },
  {
   "cell_type": "code",
   "execution_count": 93,
   "id": "bccab84d",
   "metadata": {},
   "outputs": [],
   "source": [
    "class MobilePhone:\n",
    "    def __init__(self,brand,model):\n",
    "        self.brand = brand\n",
    "        self.model = model\n",
    "    def make_call(self):\n",
    "        print(f\"calling from your {self.brand} {self.model}\")"
   ]
  },
  {
   "cell_type": "code",
   "execution_count": 94,
   "id": "5d56f40d",
   "metadata": {},
   "outputs": [],
   "source": [
    "iphone = MobilePhone(\"Apple\",\"iPhone 11\")"
   ]
  },
  {
   "cell_type": "code",
   "execution_count": 95,
   "id": "10594952",
   "metadata": {},
   "outputs": [
    {
     "name": "stdout",
     "output_type": "stream",
     "text": [
      "calling from your Apple iPhone 11\n"
     ]
    }
   ],
   "source": [
    "iphone.make_call()"
   ]
  },
  {
   "cell_type": "markdown",
   "id": "7a70d1c8",
   "metadata": {},
   "source": [
    "5. The Book class has a constructor that takes title and author as arguments and assigns them to the object's attributes. The display_info method is then invoked on the object to display the book's title and author."
   ]
  },
  {
   "cell_type": "code",
   "execution_count": 96,
   "id": "b31e4a6b",
   "metadata": {},
   "outputs": [],
   "source": [
    "class Book:\n",
    "    def __init__(self,title,author):\n",
    "        self.title = title\n",
    "        self.author = author\n",
    "    def display_info(self):\n",
    "        print(f\"The title of the book is : {self.title} and it is written by {self.author}\")"
   ]
  },
  {
   "cell_type": "code",
   "execution_count": 97,
   "id": "60112fbf",
   "metadata": {},
   "outputs": [],
   "source": [
    "book1 = Book(\"Harry Potter and the Deathly Hallows\",\"J.K. Rowling\")"
   ]
  },
  {
   "cell_type": "code",
   "execution_count": 98,
   "id": "8c0f7f60",
   "metadata": {},
   "outputs": [
    {
     "name": "stdout",
     "output_type": "stream",
     "text": [
      "The title of the book is : Harry Potter and the Deathly Hallows and it is written by J.K. Rowling\n"
     ]
    }
   ],
   "source": [
    "book1.display_info()"
   ]
  },
  {
   "cell_type": "markdown",
   "id": "d9421302",
   "metadata": {},
   "source": [
    "6. Vehicles: Create a base class called Vehicle with attributes such as make, model, and year. Implement two subclasses Car and Motorcycle that inherit from Vehicle. Add additional methods to the subclasses, such as start_engine() and stop_engine(), and handle any specific behavior or rules for each vehicle type."
   ]
  },
  {
   "cell_type": "code",
   "execution_count": 99,
   "id": "36ef4e82",
   "metadata": {},
   "outputs": [],
   "source": [
    "class Vehicle:\n",
    "    def __init__(self,make,model,year):\n",
    "        self.make = make\n",
    "        self.model = model\n",
    "        self.year = year"
   ]
  },
  {
   "cell_type": "code",
   "execution_count": 100,
   "id": "6a7f3c7c",
   "metadata": {},
   "outputs": [],
   "source": [
    "class Car(Vehicle):\n",
    "    def __init__(self,make,model,year):\n",
    "        super().__init__(make,model,year)\n",
    "    def start_engine(self):\n",
    "        print(f\"Engine of the {self.model} has started.\")\n",
    "    def stop_engine(self):\n",
    "        print(f\"Engine of the {self.model} has stopped.\")\n",
    "        \n",
    "class Motorcycle(Vehicle):\n",
    "    def __init__(self,make,model,year):\n",
    "        super().__init__(make,model,year)\n",
    "    def start_engine(self):\n",
    "        print(f\"Engine of the {self.model} has started.\")\n",
    "    def stop_engine(self):\n",
    "        print(f\"Engine of the {self.model} has stopped.\")"
   ]
  },
  {
   "cell_type": "code",
   "execution_count": 101,
   "id": "c28493af",
   "metadata": {},
   "outputs": [],
   "source": [
    "bmw1 = Car(\"sedan\",\"m3gtr\",2009)"
   ]
  },
  {
   "cell_type": "code",
   "execution_count": 102,
   "id": "1c50093c",
   "metadata": {},
   "outputs": [
    {
     "name": "stdout",
     "output_type": "stream",
     "text": [
      "Engine of the m3gtr has started.\n"
     ]
    }
   ],
   "source": [
    "bmw1.start_engine()"
   ]
  },
  {
   "cell_type": "code",
   "execution_count": 103,
   "id": "98c035d0",
   "metadata": {},
   "outputs": [
    {
     "name": "stdout",
     "output_type": "stream",
     "text": [
      "Engine of the m3gtr has stopped.\n"
     ]
    }
   ],
   "source": [
    "bmw1.stop_engine()"
   ]
  },
  {
   "cell_type": "code",
   "execution_count": 104,
   "id": "0d3e39c6",
   "metadata": {},
   "outputs": [],
   "source": [
    "ducati = Motorcycle(\"sports\",\"Panigale V4 SP2\",2018)"
   ]
  },
  {
   "cell_type": "code",
   "execution_count": 105,
   "id": "6b9483a0",
   "metadata": {},
   "outputs": [
    {
     "name": "stdout",
     "output_type": "stream",
     "text": [
      "Engine of the Panigale V4 SP2 has started.\n"
     ]
    }
   ],
   "source": [
    "ducati.start_engine()"
   ]
  },
  {
   "cell_type": "markdown",
   "id": "8113fc38",
   "metadata": {},
   "source": [
    "7. Animals: Create a base class called Animal with methods such as eat() and sleep(). Implement two subclasses Dog and Cat that inherit from Animal. Add additional methods to the subclasses, such as bark() for dogs and meow() for cats, and handle any specific behavior or rules for each animal type."
   ]
  },
  {
   "cell_type": "code",
   "execution_count": 126,
   "id": "19c20572",
   "metadata": {},
   "outputs": [],
   "source": [
    "class Animals:\n",
    "    def __init__(self,name):\n",
    "        self.name = name\n",
    "    def eat(self):\n",
    "        print(f\"{self.name} is eating\")\n",
    "    def sleep(self):\n",
    "        print(f\"{self.name} is sleeping\")"
   ]
  },
  {
   "cell_type": "code",
   "execution_count": 134,
   "id": "ffc3af1c",
   "metadata": {},
   "outputs": [],
   "source": [
    "class Dog(Animals):\n",
    "    def __init__(self,name):\n",
    "        super().__init__(name)\n",
    "        \n",
    "    def eat(self):\n",
    "        super().eat()\n",
    "        \n",
    "    def sleep(self):\n",
    "        super().sleep()\n",
    "        \n",
    "    def bark(self):\n",
    "        print(f\"{self.name} says Woof!\")\n",
    "        \n",
    "class Cat(Animals):\n",
    "    def __init__(self,name):\n",
    "        super().__init__(name)\n",
    "    \n",
    "    def eat(self):\n",
    "        super().eat()\n",
    "        \n",
    "    def sleep(self):\n",
    "        super().sleep()\n",
    "    def meow(self):\n",
    "        print(f\"{self.name} says Meow!\")"
   ]
  },
  {
   "cell_type": "code",
   "execution_count": 135,
   "id": "0f1236a5",
   "metadata": {},
   "outputs": [],
   "source": [
    "caspy = Dog(\"Caspy\")"
   ]
  },
  {
   "cell_type": "code",
   "execution_count": 136,
   "id": "4e3b0be2",
   "metadata": {},
   "outputs": [
    {
     "name": "stdout",
     "output_type": "stream",
     "text": [
      "Caspy says Woof!\n"
     ]
    }
   ],
   "source": [
    "caspy.bark()"
   ]
  },
  {
   "cell_type": "code",
   "execution_count": 137,
   "id": "94a1b667",
   "metadata": {},
   "outputs": [],
   "source": [
    "tom = Cat(\"Tom\")"
   ]
  },
  {
   "cell_type": "code",
   "execution_count": 138,
   "id": "a81aaae4",
   "metadata": {},
   "outputs": [
    {
     "name": "stdout",
     "output_type": "stream",
     "text": [
      "Tom says Meow!\n"
     ]
    }
   ],
   "source": [
    "tom.meow()"
   ]
  },
  {
   "cell_type": "code",
   "execution_count": 139,
   "id": "51682ed3",
   "metadata": {},
   "outputs": [
    {
     "name": "stdout",
     "output_type": "stream",
     "text": [
      "Caspy is eating\n"
     ]
    }
   ],
   "source": [
    "caspy.eat()"
   ]
  },
  {
   "cell_type": "code",
   "execution_count": 140,
   "id": "ecf30a46",
   "metadata": {},
   "outputs": [
    {
     "name": "stdout",
     "output_type": "stream",
     "text": [
      "Caspy is sleeping\n"
     ]
    }
   ],
   "source": [
    "caspy.sleep()"
   ]
  },
  {
   "cell_type": "markdown",
   "id": "9aff3b21",
   "metadata": {},
   "source": [
    "8. Library Catalog: Create a base class called LibraryItem with attributes such as title, author, and publication_year. Implement two subclasses Book and Magazine that inherit from LibraryItem. Add additional methods to the subclasses, such as checkout() and return_item(), and handle any specific behavior or rules for each item type."
   ]
  },
  {
   "cell_type": "code",
   "execution_count": 141,
   "id": "816bc418",
   "metadata": {},
   "outputs": [],
   "source": [
    "class LibraryItem:\n",
    "    def __init__(self,title,author,publication_year):\n",
    "        self.title = title\n",
    "        self.author = author\n",
    "        self.publication_year = publication_year"
   ]
  },
  {
   "cell_type": "code",
   "execution_count": 142,
   "id": "2a090bb2",
   "metadata": {},
   "outputs": [],
   "source": [
    "class Book(LibraryItem):\n",
    "    def __init__(self,title,author,publication_year):\n",
    "        super().__init__(title,author,publication_year)\n",
    "    def checkout(self):\n",
    "        print(f\"checking out {self.title} by {self.author}\")\n",
    "    def return_item(self):\n",
    "        print(f\"returning {self.title} by {self.author}\")\n",
    "        \n",
    "class Magazine(LibraryItem):\n",
    "    def __init__(self,title,author,publication_year):\n",
    "        super().__init__(title,author,publication_year)\n",
    "    def checkout(self):\n",
    "        print(f\"checking out {self.title} by {self.author}\")\n",
    "    def return_item(self):\n",
    "        print(f\"returning {self.title} by {self.author}\")"
   ]
  },
  {
   "cell_type": "code",
   "execution_count": 143,
   "id": "c7355f47",
   "metadata": {},
   "outputs": [],
   "source": [
    "book1 = Book(\"Harry Potter\",\"JK Rowling\",2006)"
   ]
  },
  {
   "cell_type": "code",
   "execution_count": 144,
   "id": "a3dc168a",
   "metadata": {},
   "outputs": [
    {
     "name": "stdout",
     "output_type": "stream",
     "text": [
      "checking out Harry Potter by JK Rowling\n"
     ]
    }
   ],
   "source": [
    "book1.checkout()"
   ]
  },
  {
   "cell_type": "code",
   "execution_count": 145,
   "id": "e3871684",
   "metadata": {},
   "outputs": [
    {
     "name": "stdout",
     "output_type": "stream",
     "text": [
      "returning Harry Potter by JK Rowling\n"
     ]
    }
   ],
   "source": [
    "book1.return_item()"
   ]
  },
  {
   "cell_type": "markdown",
   "id": "530676f6",
   "metadata": {},
   "source": [
    "9. Employees and Departments: Create a base class called Employee with attributes such as name, salary, and department. Implement two subclasses Manager and Staff that inherit from Employee. Add additional methods to the subclasses, such as assign_task() for managers and attend_meeting() for staff members. Create a separate class called Department that contains a list of employees and methods to add or remove employees from the department."
   ]
  },
  {
   "cell_type": "code",
   "execution_count": 146,
   "id": "667eb1ad",
   "metadata": {},
   "outputs": [],
   "source": [
    "class Employee:\n",
    "    def __init__(self, name, salary, department):\n",
    "        self.name = name\n",
    "        self.salary = salary\n",
    "        self.department = department"
   ]
  },
  {
   "cell_type": "code",
   "execution_count": 154,
   "id": "357d6be8",
   "metadata": {},
   "outputs": [],
   "source": [
    "class Manager(Employee):\n",
    "    def __init__(self, name, salary, department):\n",
    "        super().__init__(name, salary, department)\n",
    "    def assign_task(self):\n",
    "        print(\"i can assign tasks.\")\n",
    "        \n",
    "class Staff(Employee):\n",
    "    def __init__(self, name, salary, department):\n",
    "        super().__init__(name, salary, department)\n",
    "    def attend_meeting(self):\n",
    "        print(\"i have to attend meetings.\") \n",
    "        \n",
    "class Department:\n",
    "    def __init__(self,dept_name,employees):\n",
    "        self.dept_name = dept_name\n",
    "        self.employees = employees\n",
    "        \n",
    "    def add_employee(self,emp_name):\n",
    "        if emp_name in self.employees:\n",
    "            return f\"{emp_name} is already in the department {self.dept_name}\"\n",
    "        else:\n",
    "            self.employees.append(emp_name)\n",
    "            print(f\"{emp_name} has been added to the department : {self.dept_name}\")\n",
    "            return f\"updated list of employees in {self.dept_name} department is {self.employees}\"\n",
    "        \n",
    "    def remove_employee(self,emp_name):\n",
    "        if emp_name not in self.employees:\n",
    "            return f\"{emp_name} is not in the department {self.dept_name}\"\n",
    "        else:\n",
    "            self.employees.remove(emp_name)\n",
    "            print(f\"{emp_name} has been removed from the department : {self.dept_name}\")\n",
    "            return f\"updated list of employees in {self.dept_name} department is {self.employees}\""
   ]
  },
  {
   "cell_type": "code",
   "execution_count": 155,
   "id": "e43537b0",
   "metadata": {},
   "outputs": [],
   "source": [
    "data_science = Department(\"data science\",['ankit','aveek','deep','sourav','sarbartha'])"
   ]
  },
  {
   "cell_type": "code",
   "execution_count": 156,
   "id": "f2ff2114",
   "metadata": {},
   "outputs": [
    {
     "data": {
      "text/plain": [
       "'sourav is already in the department data science'"
      ]
     },
     "execution_count": 156,
     "metadata": {},
     "output_type": "execute_result"
    }
   ],
   "source": [
    "data_science.add_employee('sourav')"
   ]
  },
  {
   "cell_type": "code",
   "execution_count": 157,
   "id": "d6e94a19",
   "metadata": {},
   "outputs": [
    {
     "name": "stdout",
     "output_type": "stream",
     "text": [
      "nikhil has been added to the department : data science\n"
     ]
    },
    {
     "data": {
      "text/plain": [
       "\"updated list of employees in data science department is ['ankit', 'aveek', 'deep', 'sourav', 'sarbartha', 'nikhil']\""
      ]
     },
     "execution_count": 157,
     "metadata": {},
     "output_type": "execute_result"
    }
   ],
   "source": [
    "data_science.add_employee(\"nikhil\")"
   ]
  },
  {
   "cell_type": "code",
   "execution_count": 158,
   "id": "93ef75d9",
   "metadata": {},
   "outputs": [
    {
     "data": {
      "text/plain": [
       "'karan is not in the department data science'"
      ]
     },
     "execution_count": 158,
     "metadata": {},
     "output_type": "execute_result"
    }
   ],
   "source": [
    "data_science.remove_employee(\"karan\")"
   ]
  },
  {
   "cell_type": "code",
   "execution_count": 159,
   "id": "47c1584c",
   "metadata": {},
   "outputs": [
    {
     "name": "stdout",
     "output_type": "stream",
     "text": [
      "nikhil has been removed from the department : data science\n"
     ]
    },
    {
     "data": {
      "text/plain": [
       "\"updated list of employees in data science department is ['ankit', 'aveek', 'deep', 'sourav', 'sarbartha']\""
      ]
     },
     "execution_count": 159,
     "metadata": {},
     "output_type": "execute_result"
    }
   ],
   "source": [
    "data_science.remove_employee(\"nikhil\")"
   ]
  },
  {
   "cell_type": "code",
   "execution_count": null,
   "id": "dad145f4",
   "metadata": {},
   "outputs": [],
   "source": []
  }
 ],
 "metadata": {
  "kernelspec": {
   "display_name": "Python 3 (ipykernel)",
   "language": "python",
   "name": "python3"
  },
  "language_info": {
   "codemirror_mode": {
    "name": "ipython",
    "version": 3
   },
   "file_extension": ".py",
   "mimetype": "text/x-python",
   "name": "python",
   "nbconvert_exporter": "python",
   "pygments_lexer": "ipython3",
   "version": "3.11.3"
  }
 },
 "nbformat": 4,
 "nbformat_minor": 5
}
