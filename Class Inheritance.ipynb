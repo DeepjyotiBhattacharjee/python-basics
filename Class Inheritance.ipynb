{
 "cells": [
  {
   "cell_type": "code",
   "execution_count": 1,
   "id": "f9926fbc",
   "metadata": {},
   "outputs": [],
   "source": [
    "class Person:\n",
    "    def __init__(self,name):\n",
    "        self.name = name\n",
    "    def display_info(self):\n",
    "        print(f\"Name is {self.name}\")"
   ]
  },
  {
   "cell_type": "code",
   "execution_count": 2,
   "id": "b6965c90",
   "metadata": {},
   "outputs": [],
   "source": [
    "class Student(Person):\n",
    "    def __init__(self,name,grade):\n",
    "        super().__init__(name)\n",
    "        self.grade = grade\n",
    "    \n",
    "    def display_info(self):\n",
    "        super().display_info()\n",
    "        print(f\"Grade is {self.grade}\")"
   ]
  },
  {
   "cell_type": "code",
   "execution_count": 3,
   "id": "e198da32",
   "metadata": {},
   "outputs": [],
   "source": [
    "student1 = Student(\"deep\",90)"
   ]
  },
  {
   "cell_type": "code",
   "execution_count": 4,
   "id": "a7089af9",
   "metadata": {},
   "outputs": [
    {
     "name": "stdout",
     "output_type": "stream",
     "text": [
      "Name is deep\n",
      "Grade is 90\n"
     ]
    }
   ],
   "source": [
    "student1.display_info()"
   ]
  },
  {
   "cell_type": "code",
   "execution_count": 5,
   "id": "6e3bcc35",
   "metadata": {},
   "outputs": [],
   "source": [
    "class Teacher(Person):\n",
    "    def __init__(self,name,subject):\n",
    "        super().__init__(name)\n",
    "        self.subject = subject\n",
    "    \n",
    "    def display_info(self):\n",
    "        super().display_info()\n",
    "        print(f\"Subject is {self.subject}\")"
   ]
  },
  {
   "cell_type": "code",
   "execution_count": 6,
   "id": "30a75436",
   "metadata": {},
   "outputs": [],
   "source": [
    "teacher1 = Teacher(\"caspy\",\"maths\")"
   ]
  },
  {
   "cell_type": "code",
   "execution_count": 7,
   "id": "94f47f59",
   "metadata": {},
   "outputs": [
    {
     "name": "stdout",
     "output_type": "stream",
     "text": [
      "Name is caspy\n",
      "Subject is maths\n"
     ]
    }
   ],
   "source": [
    "teacher1.display_info()"
   ]
  },
  {
   "cell_type": "code",
   "execution_count": 23,
   "id": "642d975d",
   "metadata": {},
   "outputs": [],
   "source": [
    "class Vehicle:\n",
    "    def __init__(self,model,brand):\n",
    "        self.model = model\n",
    "        self.brand = brand\n",
    "        \n",
    "    def start(self):\n",
    "        print(f\"{self.model} has started\")"
   ]
  },
  {
   "cell_type": "code",
   "execution_count": 24,
   "id": "b7265915",
   "metadata": {},
   "outputs": [],
   "source": [
    "class Bicycle(Vehicle):\n",
    "    def __init__(self,model,brand):\n",
    "        super().__init__(model,brand)\n",
    "    \n",
    "    def start(self):\n",
    "        super().start()\n",
    "        print(\"This is a bicycle\")\n",
    "        \n",
    "    def display_info(self):\n",
    "        print(\"this is the display_info of bicycle\")"
   ]
  },
  {
   "cell_type": "code",
   "execution_count": 25,
   "id": "7a3ddf58",
   "metadata": {},
   "outputs": [],
   "source": [
    "class Car(Vehicle):\n",
    "    def __init__(self,model,brand):\n",
    "        super().__init__(model,brand)\n",
    "    \n",
    "    def start(self):\n",
    "        super().start()\n",
    "        print(\"This is a car\")\n",
    "        \n",
    "    def display_info(self):\n",
    "        print(\"this is the display_info of car\")"
   ]
  },
  {
   "cell_type": "code",
   "execution_count": 26,
   "id": "0b75d021",
   "metadata": {},
   "outputs": [],
   "source": [
    "bicycle1 = Bicycle('bike','hero')"
   ]
  },
  {
   "cell_type": "code",
   "execution_count": 27,
   "id": "d72ee3a6",
   "metadata": {},
   "outputs": [
    {
     "name": "stdout",
     "output_type": "stream",
     "text": [
      "bike has started\n",
      "This is a bicycle\n"
     ]
    }
   ],
   "source": [
    "bicycle1.start()"
   ]
  },
  {
   "cell_type": "code",
   "execution_count": 28,
   "id": "3ab7ec73",
   "metadata": {},
   "outputs": [
    {
     "name": "stdout",
     "output_type": "stream",
     "text": [
      "this is the display_info of bicycle\n"
     ]
    }
   ],
   "source": [
    "bicycle1.display_info()"
   ]
  },
  {
   "cell_type": "code",
   "execution_count": 29,
   "id": "f0109dd3",
   "metadata": {},
   "outputs": [],
   "source": [
    "car1 = Car(\"sedan\",\"bmw\")"
   ]
  },
  {
   "cell_type": "code",
   "execution_count": 30,
   "id": "a817305e",
   "metadata": {},
   "outputs": [
    {
     "name": "stdout",
     "output_type": "stream",
     "text": [
      "sedan has started\n",
      "This is a car\n"
     ]
    }
   ],
   "source": [
    "car1.start()"
   ]
  },
  {
   "cell_type": "code",
   "execution_count": 31,
   "id": "6df5b647",
   "metadata": {},
   "outputs": [
    {
     "name": "stdout",
     "output_type": "stream",
     "text": [
      "this is the display_info of car\n"
     ]
    }
   ],
   "source": [
    "car1.display_info()"
   ]
  },
  {
   "cell_type": "code",
   "execution_count": 42,
   "id": "9ca91dca",
   "metadata": {},
   "outputs": [],
   "source": [
    "class Animal:\n",
    "    def __init__(self,name):\n",
    "        self.name = name\n",
    "    def sound(self):\n",
    "        pass\n",
    "\n",
    "class Dog(Animal):\n",
    "    def __init__(self,name,breed):\n",
    "        super().__init__(name)\n",
    "        self.breed = breed\n",
    "    def sound(self):\n",
    "        print(\"Woof!\")\n",
    "\n",
    "class Cat(Animal):\n",
    "    def __init__(self,name,breed):\n",
    "        super().__init__(name)\n",
    "        self.breed = breed\n",
    "    def sound(self):\n",
    "        print(\"Meow!\")\n"
   ]
  },
  {
   "cell_type": "code",
   "execution_count": 38,
   "id": "d68843e0",
   "metadata": {},
   "outputs": [],
   "source": [
    "dog1 = Dog(\"caspy\",\"labrador\")"
   ]
  },
  {
   "cell_type": "code",
   "execution_count": 39,
   "id": "20a11d3d",
   "metadata": {},
   "outputs": [
    {
     "data": {
      "text/plain": [
       "'caspy'"
      ]
     },
     "execution_count": 39,
     "metadata": {},
     "output_type": "execute_result"
    }
   ],
   "source": [
    "dog1.name"
   ]
  },
  {
   "cell_type": "code",
   "execution_count": 40,
   "id": "b885c452",
   "metadata": {},
   "outputs": [
    {
     "data": {
      "text/plain": [
       "'labrador'"
      ]
     },
     "execution_count": 40,
     "metadata": {},
     "output_type": "execute_result"
    }
   ],
   "source": [
    "dog1.breed"
   ]
  },
  {
   "cell_type": "code",
   "execution_count": 41,
   "id": "c56e9894",
   "metadata": {},
   "outputs": [
    {
     "name": "stdout",
     "output_type": "stream",
     "text": [
      "Woof!\n"
     ]
    }
   ],
   "source": [
    "dog1.sound()"
   ]
  },
  {
   "cell_type": "code",
   "execution_count": 43,
   "id": "4c329c16",
   "metadata": {},
   "outputs": [],
   "source": [
    "cat1 = Cat(\"whiskers\",\"persian\")"
   ]
  },
  {
   "cell_type": "code",
   "execution_count": 44,
   "id": "a52a80be",
   "metadata": {},
   "outputs": [
    {
     "data": {
      "text/plain": [
       "'persian'"
      ]
     },
     "execution_count": 44,
     "metadata": {},
     "output_type": "execute_result"
    }
   ],
   "source": [
    "cat1.breed"
   ]
  },
  {
   "cell_type": "code",
   "execution_count": 45,
   "id": "5cf8b1b9",
   "metadata": {},
   "outputs": [
    {
     "data": {
      "text/plain": [
       "'whiskers'"
      ]
     },
     "execution_count": 45,
     "metadata": {},
     "output_type": "execute_result"
    }
   ],
   "source": [
    "cat1.name"
   ]
  },
  {
   "cell_type": "code",
   "execution_count": 46,
   "id": "769237ea",
   "metadata": {},
   "outputs": [
    {
     "name": "stdout",
     "output_type": "stream",
     "text": [
      "Meow!\n"
     ]
    }
   ],
   "source": [
    "cat1.sound()"
   ]
  },
  {
   "cell_type": "code",
   "execution_count": 58,
   "id": "9d3ad70b",
   "metadata": {},
   "outputs": [],
   "source": [
    "class Student :\n",
    "    def __init__(self,name,roll):\n",
    "        \n",
    "        # protected attributes\n",
    "        self._name = name\n",
    "        self._roll = roll\n",
    "        \n",
    "    def _display(self):\n",
    "        print(f\"Name is {self._name} and Roll number is {self._roll}\")"
   ]
  },
  {
   "cell_type": "code",
   "execution_count": 49,
   "id": "c794d1e6",
   "metadata": {},
   "outputs": [],
   "source": [
    "student1 = Student(\"Deep\",123)"
   ]
  },
  {
   "cell_type": "code",
   "execution_count": 50,
   "id": "905e25b5",
   "metadata": {},
   "outputs": [
    {
     "data": {
      "text/plain": [
       "['__class__',\n",
       " '__delattr__',\n",
       " '__dict__',\n",
       " '__dir__',\n",
       " '__doc__',\n",
       " '__eq__',\n",
       " '__format__',\n",
       " '__ge__',\n",
       " '__getattribute__',\n",
       " '__getstate__',\n",
       " '__gt__',\n",
       " '__hash__',\n",
       " '__init__',\n",
       " '__init_subclass__',\n",
       " '__le__',\n",
       " '__lt__',\n",
       " '__module__',\n",
       " '__ne__',\n",
       " '__new__',\n",
       " '__reduce__',\n",
       " '__reduce_ex__',\n",
       " '__repr__',\n",
       " '__setattr__',\n",
       " '__sizeof__',\n",
       " '__str__',\n",
       " '__subclasshook__',\n",
       " '__weakref__',\n",
       " '_display',\n",
       " '_name',\n",
       " '_roll']"
      ]
     },
     "execution_count": 50,
     "metadata": {},
     "output_type": "execute_result"
    }
   ],
   "source": [
    "dir(student1)"
   ]
  },
  {
   "cell_type": "code",
   "execution_count": 53,
   "id": "6381c6ab",
   "metadata": {},
   "outputs": [],
   "source": [
    "class Genius(Student):\n",
    "    def __init__(self,name,roll):\n",
    "        super().__init__(name,roll)\n",
    "        \n",
    "    def display_details(self):\n",
    "        print(f\"Name is {self._name}\")\n",
    "        self._display()"
   ]
  },
  {
   "cell_type": "code",
   "execution_count": 54,
   "id": "1cccf7f4",
   "metadata": {},
   "outputs": [],
   "source": [
    "genius1 = Genius(\"deep\",456)"
   ]
  },
  {
   "cell_type": "code",
   "execution_count": 56,
   "id": "0787da7a",
   "metadata": {},
   "outputs": [
    {
     "name": "stdout",
     "output_type": "stream",
     "text": [
      "Name is deep\n",
      "Name is deep and Roll number is 456\n"
     ]
    }
   ],
   "source": [
    "genius1.display_details()"
   ]
  },
  {
   "cell_type": "code",
   "execution_count": 62,
   "id": "9bdc5e19",
   "metadata": {},
   "outputs": [],
   "source": [
    "class Student :\n",
    "    def __init__(self,name,roll):\n",
    "        \n",
    "        # private attributes\n",
    "        self.__name = name\n",
    "        self.__roll = roll\n",
    "        \n",
    "    def display(self):\n",
    "        print(f\"Name is {self.__name} and Roll number is {self.__roll}\")"
   ]
  },
  {
   "cell_type": "code",
   "execution_count": 63,
   "id": "c030f78c",
   "metadata": {},
   "outputs": [],
   "source": [
    "std1 = Student(\"deep\",9)"
   ]
  },
  {
   "cell_type": "code",
   "execution_count": 64,
   "id": "50a60347",
   "metadata": {},
   "outputs": [
    {
     "name": "stdout",
     "output_type": "stream",
     "text": [
      "Name is deep and Roll number is 9\n"
     ]
    }
   ],
   "source": [
    "std1.display()"
   ]
  },
  {
   "cell_type": "code",
   "execution_count": 65,
   "id": "96892967",
   "metadata": {},
   "outputs": [
    {
     "data": {
      "text/plain": [
       "['_Student__name',\n",
       " '_Student__roll',\n",
       " '__class__',\n",
       " '__delattr__',\n",
       " '__dict__',\n",
       " '__dir__',\n",
       " '__doc__',\n",
       " '__eq__',\n",
       " '__format__',\n",
       " '__ge__',\n",
       " '__getattribute__',\n",
       " '__getstate__',\n",
       " '__gt__',\n",
       " '__hash__',\n",
       " '__init__',\n",
       " '__init_subclass__',\n",
       " '__le__',\n",
       " '__lt__',\n",
       " '__module__',\n",
       " '__ne__',\n",
       " '__new__',\n",
       " '__reduce__',\n",
       " '__reduce_ex__',\n",
       " '__repr__',\n",
       " '__setattr__',\n",
       " '__sizeof__',\n",
       " '__str__',\n",
       " '__subclasshook__',\n",
       " '__weakref__',\n",
       " 'display']"
      ]
     },
     "execution_count": 65,
     "metadata": {},
     "output_type": "execute_result"
    }
   ],
   "source": [
    "dir(std1)"
   ]
  },
  {
   "cell_type": "code",
   "execution_count": 66,
   "id": "cc61ca88",
   "metadata": {},
   "outputs": [],
   "source": [
    "class Genius(Student):\n",
    "    def __init__(self,name,roll,subject):\n",
    "        super().__init__(name,roll)\n",
    "        self.subject = subject\n",
    "    "
   ]
  },
  {
   "cell_type": "code",
   "execution_count": 67,
   "id": "e5d0134f",
   "metadata": {},
   "outputs": [],
   "source": [
    "genius1 = Genius(\"deep\",10,\"AI\")"
   ]
  },
  {
   "cell_type": "code",
   "execution_count": 68,
   "id": "9823f85e",
   "metadata": {},
   "outputs": [
    {
     "name": "stdout",
     "output_type": "stream",
     "text": [
      "Name is deep and Roll number is 10\n"
     ]
    }
   ],
   "source": [
    "genius1.display()"
   ]
  },
  {
   "cell_type": "code",
   "execution_count": 69,
   "id": "1091240b",
   "metadata": {},
   "outputs": [
    {
     "data": {
      "text/plain": [
       "['_Student__name',\n",
       " '_Student__roll',\n",
       " '__class__',\n",
       " '__delattr__',\n",
       " '__dict__',\n",
       " '__dir__',\n",
       " '__doc__',\n",
       " '__eq__',\n",
       " '__format__',\n",
       " '__ge__',\n",
       " '__getattribute__',\n",
       " '__getstate__',\n",
       " '__gt__',\n",
       " '__hash__',\n",
       " '__init__',\n",
       " '__init_subclass__',\n",
       " '__le__',\n",
       " '__lt__',\n",
       " '__module__',\n",
       " '__ne__',\n",
       " '__new__',\n",
       " '__reduce__',\n",
       " '__reduce_ex__',\n",
       " '__repr__',\n",
       " '__setattr__',\n",
       " '__sizeof__',\n",
       " '__str__',\n",
       " '__subclasshook__',\n",
       " '__weakref__',\n",
       " 'display',\n",
       " 'subject']"
      ]
     },
     "execution_count": 69,
     "metadata": {},
     "output_type": "execute_result"
    }
   ],
   "source": [
    "dir(genius1)"
   ]
  },
  {
   "cell_type": "code",
   "execution_count": null,
   "id": "834f1c4f",
   "metadata": {},
   "outputs": [],
   "source": []
  }
 ],
 "metadata": {
  "kernelspec": {
   "display_name": "Python 3 (ipykernel)",
   "language": "python",
   "name": "python3"
  },
  "language_info": {
   "codemirror_mode": {
    "name": "ipython",
    "version": 3
   },
   "file_extension": ".py",
   "mimetype": "text/x-python",
   "name": "python",
   "nbconvert_exporter": "python",
   "pygments_lexer": "ipython3",
   "version": "3.11.3"
  }
 },
 "nbformat": 4,
 "nbformat_minor": 5
}
